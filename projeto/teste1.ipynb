{
 "cells": [
  {
   "cell_type": "code",
   "execution_count": 26,
   "metadata": {},
   "outputs": [],
   "source": [
    "# Importação de Bibliotecas\n",
    "\n",
    "import requests#Permiti fazer uma requisição HTTPS na API do OpenWeather\n",
    "\n",
    "import pandas as pd #Usado para analise e manipulção de dados, especialmente com DataFrame\n",
    "\n",
    "from sklearn.linear_model import LinearRegression #Usado para treinar o modelo de regressão linear \n"
   ]
  },
  {
   "cell_type": "code",
   "execution_count": 27,
   "metadata": {},
   "outputs": [],
   "source": [
    "# Função para Obter Dados da API\n",
    "\n",
    "def obter_dados_cidade(cidade): #função que vai permitir a busca de uma cidade especifica\n",
    "    api_key = '1dc1f784d3abea26b268cf151165db0f'\n",
    "    url = f'http://api.openweathermap.org/data/2.5/weather?q={cidade}&appid={api_key}&units=metric'\n",
    "    response = requests.get(url)\n",
    "\n",
    "    # Verificando se a resposta da API foi bem executada\n",
    "    if response.status_code != 200: # Esse codigo indica suceeso.\n",
    "        print(f'Erro ao obter dados da API: {response.status_code} -  {response.text}')\n",
    "        return None\n",
    "    \n",
    "    return response.json() # Se a resposta houver sucesso, retorna os dados em formato JSON para facilitar o entendimento "
   ]
  },
  {
   "cell_type": "code",
   "execution_count": 28,
   "metadata": {},
   "outputs": [],
   "source": [
    "# Função para preparar os dados\n",
    "\n",
    "def preparar_dados(dados): # Extrai informações úteis retornado pela API\n",
    "    if dados is None:\n",
    "        return None # Adicionada para garantir que os dados não sejam inválidos ou nulos\n",
    "    \n",
    "    cidade = dados['name']\n",
    "\n",
    "    # O campo main contem os dados climáticos e ao lado são os dados extraidos do campo main \n",
    "    temperatura = dados['main']['temp'] \n",
    "    umidade = dados['main']['humidity']\n",
    "    pressao = dados['main']['pressure']\n",
    "    descricao_clima = dados['weather'][0]['description'] \n",
    "\n",
    "    # Criação de um DataFrame, pois preciso dos meus dados estruturados similar a uma tabela \n",
    "    df = pd.DataFrame({ # Função que criou meu DataFrame\n",
    "        'cidade' : [cidade],\n",
    "        'temperatura' : [temperatura],\n",
    "        'umidade' : [umidade],\n",
    "        'pressao' : [pressao],\n",
    "        'descricao_clima' : [descricao_clima]   \n",
    "    })\n",
    "\n",
    "    return df"
   ]
  },
  {
   "cell_type": "code",
   "execution_count": 29,
   "metadata": {},
   "outputs": [],
   "source": [
    " # Função para treinar o modelo\n",
    "def treinar_modelo(df):\n",
    "    if 'temperatura_futura' not in df.columns or df['temperatura_futura'].isnull().any():\n",
    "        raise ValueError(\"A coluna 'temperatura_futura' deve estar presente e não pode conter valores NaN.\") # Essa coluna é fundamental, pois contém os valores que o modelo vai tentar prever\n",
    "\n",
    "    X = df[['temperatura', 'umidade', 'pressao']]\n",
    "    y = df['temperatura_futura']\n",
    "    model = LinearRegression()\n",
    "    model.fit(X, y)  # Adicionado para aprender a relação entre x (as variáveis preditivas) e y (o que queremos prever)\n",
    "\n",
    "    \n",
    "    return model\n"
   ]
  },
  {
   "cell_type": "code",
   "execution_count": 30,
   "metadata": {},
   "outputs": [],
   "source": [
    "# Função para Fazer a Previsão baseado no modelo treinado\n",
    "\n",
    "def prever_temperatura(model,dados_reais):\n",
    "    nova_previsao = model.predict([dados_reais]) # Adicionado para verificar se os dados estão no formato corretos \n",
    "    return nova_previsao[0]"
   ]
  },
  {
   "cell_type": "code",
   "execution_count": 31,
   "metadata": {},
   "outputs": [],
   "source": [
    "# Célula 6: Função principal\n",
    "def main():\n",
    "    cidade = input(\"Digite o nome da cidade: \")  # Agora o usuário pode escolher a cidade\n",
    "    dados = obter_dados_cidade(cidade)\n",
    "\n",
    "    # Preparar os dados\n",
    "    df_atual = preparar_dados(dados)\n",
    "\n",
    "    if df_atual is None:\n",
    "        print(\"Não foi possível obter os dados para a cidade especificada.\")\n",
    "        return\n",
    "\n",
    "    # Dados históricos\n",
    "    historico_dados = pd.DataFrame({\n",
    "        'temperatura': [30, 29, 28, 27],\n",
    "        'umidade': [80, 75, 70, 65],\n",
    "        'pressao': [1013, 1012, 1011, 1010],\n",
    "        'temperatura_futura': [31, 30, 29, 28]  # Temperaturas futuras correspondentes\n",
    "    })\n",
    "\n",
    "    # Concatenar os dados históricos com os dados obtidos\n",
    "    df = pd.concat([historico_dados, df_atual], ignore_index=True) # Uma lista contendo dois df que queremos combinar e o argumento ignore_index=True permite que os não cause índices duplicados.\n",
    "\n",
    "    # Processo útil para um modelo de regressão linear, pois  prevê o próximo valor de uma sequência (neste caso, a temperatura futura).\n",
    "    df['temperatura_futura'] = df['temperatura'].shift(-1) # Cada linha contem a temperatura atual e a temperatura da próxima linha.\n",
    "    df['temperatura_futura'].fillna(df['temperatura'].iloc[-1], inplace=True)\n",
    "\n",
    "    print(\"Dados utilizados para treinar o modelo:\")\n",
    "    print(df)\n",
    "\n",
    "    # Treinar o modelo\n",
    "    try:\n",
    "        modelo = treinar_modelo(df)\n",
    "    except ValueError as e:\n",
    "        print(f\"Erro ao treinar o modelo: {e}\")\n",
    "        return\n",
    "\n",
    "    # Prever a temperatura com os dados atuais\n",
    "    dados_reais = [df_atual['temperatura'].iloc[0], df_atual['umidade'].iloc[0], df_atual['pressao'].iloc[0]]\n",
    "    temperatura_prevista = prever_temperatura(modelo, dados_reais)\n",
    "\n",
    "    # Exibir o resultado\n",
    "    print(f\"Temperatura atual em {df_atual['cidade'].iloc[0]}: {df_atual['temperatura'].iloc[0]}°C\")\n",
    "    print(f\"Previsão de temperatura ajustada: {temperatura_prevista:.2f}°C\")\n",
    "\n",
    "# Executar o programa\n"
   ]
  },
  {
   "cell_type": "code",
   "execution_count": 32,
   "metadata": {},
   "outputs": [
    {
     "name": "stdout",
     "output_type": "stream",
     "text": [
      "Dados utilizados para treinar o modelo:\n",
      "   temperatura  umidade  pressao  temperatura_futura  cidade descricao_clima\n",
      "0        30.00       80     1013               29.00     NaN             NaN\n",
      "1        29.00       75     1012               28.00     NaN             NaN\n",
      "2        28.00       70     1011               27.00     NaN             NaN\n",
      "3        27.00       65     1010               15.85     NaN             NaN\n",
      "4        15.85       76     1028               15.85  London   broken clouds\n",
      "Temperatura atual em London: 15.85°C\n",
      "Previsão de temperatura ajustada: 15.75°C\n"
     ]
    },
    {
     "name": "stderr",
     "output_type": "stream",
     "text": [
      "C:\\Users\\JúliaMelo-HXBrasil\\AppData\\Local\\Temp\\ipykernel_18344\\2632886659.py:26: FutureWarning: A value is trying to be set on a copy of a DataFrame or Series through chained assignment using an inplace method.\n",
      "The behavior will change in pandas 3.0. This inplace method will never work because the intermediate object on which we are setting values always behaves as a copy.\n",
      "\n",
      "For example, when doing 'df[col].method(value, inplace=True)', try using 'df.method({col: value}, inplace=True)' or df[col] = df[col].method(value) instead, to perform the operation inplace on the original object.\n",
      "\n",
      "\n",
      "  df['temperatura_futura'].fillna(df['temperatura'].iloc[-1], inplace=True)\n",
      "c:\\Users\\Julia\\Documents\\desafio3\\.env\\Lib\\site-packages\\sklearn\\base.py:493: UserWarning: X does not have valid feature names, but LinearRegression was fitted with feature names\n",
      "  warnings.warn(\n"
     ]
    }
   ],
   "source": [
    "# Célula 7: Executar o programa\n",
    "main()\n"
   ]
  }
 ],
 "metadata": {
  "kernelspec": {
   "display_name": ".env",
   "language": "python",
   "name": "python3"
  },
  "language_info": {
   "codemirror_mode": {
    "name": "ipython",
    "version": 3
   },
   "file_extension": ".py",
   "mimetype": "text/x-python",
   "name": "python",
   "nbconvert_exporter": "python",
   "pygments_lexer": "ipython3",
   "version": "3.11.9"
  }
 },
 "nbformat": 4,
 "nbformat_minor": 2
}
